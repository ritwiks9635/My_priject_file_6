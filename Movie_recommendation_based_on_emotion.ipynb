{
  "cells": [
    {
      "cell_type": "markdown",
      "metadata": {
        "id": "view-in-github",
        "colab_type": "text"
      },
      "source": [
        "<a href=\"https://colab.research.google.com/github/ritwiks9635/My_priject_file_6/blob/main/Movie_recommendation_based_on_emotion.ipynb\" target=\"_parent\"><img src=\"https://colab.research.google.com/assets/colab-badge.svg\" alt=\"Open In Colab\"/></a>"
      ]
    },
    {
      "cell_type": "markdown",
      "source": [
        "IMPORT MODULE"
      ],
      "metadata": {
        "id": "Ux87H1LRtCtN"
      }
    },
    {
      "cell_type": "code",
      "source": [
        "from bs4 import BeautifulSoup as SOUP\n",
        "import re \n",
        "import requests as HTTP"
      ],
      "metadata": {
        "id": "0Grzjw90kaEa"
      },
      "execution_count": null,
      "outputs": []
    },
    {
      "cell_type": "markdown",
      "source": [
        "Main Function for scraping"
      ],
      "metadata": {
        "id": "AklfDhIsuL3Z"
      }
    },
    {
      "cell_type": "code",
      "source": [
        "def main(emotion):\n",
        "  if(emotion == \"sad\"):\n",
        "    url = \"http://www.imdb.com/search/title?genres=drama&title_type=feature&sort=moviemeter, asc\"\n",
        "  elif(emotion == \"disgust\"):\n",
        "    url = \"http://www.imdb.com/search/title?genres=musical&title_type=feature&sort=moviemeter, asc\"\n",
        "  elif(emotion == \"anger\"):\n",
        "    url = \"http://www.imdb.com/search/title?genres=family&title_type=feature&sort=moviemeter, asc\"\n",
        "  elif(emotion == \"anticipation\"):\n",
        "    url = \"http://www.imdb.com/search/title?genres=thriller&title_type=feature&sort=moviemeter, asc\"\n",
        "  elif(emotion == \"fear\"):\n",
        "    url = \"http://www.imdb.com/search/title?genres=sport&title_type=feature&sort=moviemeter, asc\"\n",
        "  elif(emotion == \"enjoyment\"):\n",
        "    url = \"http://www.imdb.com/search/title?genres=thriller&title_type=feature&sort=moviemeter, asc\"\n",
        "  elif(emotion == \"trust\"):\n",
        "    url = \"http://www.imdb.com/search/title?genres=western&title_type=feature&sort=moviemeter, asc\"\n",
        "  elif(emotion == \"surprise\"):\n",
        "    url = \"http://www.imdb.com/search/title?genres=film_noir&title_type=feature&sort=moviemeter, asc\"\n",
        " \n",
        "  response = HTTP.get(url)\n",
        "  data = response.text\n",
        "\n",
        "  soup = SOUP(data, \"lxml\")\n",
        "\n",
        "  title = soup.find_all(\"a\", attrs = {\"href\" : re.compile(r'\\/title\\/tt+\\d*\\/')})\n",
        "  return title"
      ],
      "metadata": {
        "id": "O73ivN5nmNBG"
      },
      "execution_count": null,
      "outputs": []
    },
    {
      "cell_type": "markdown",
      "source": [
        "Driver Function"
      ],
      "metadata": {
        "id": "qExS59CTuUHx"
      }
    },
    {
      "cell_type": "code",
      "source": [
        "if __name__ == \"__main__\":\n",
        "  emotion = input(\"Enter The Emotion::\")\n",
        "  a = main(emotion)\n",
        "  count = 0\n",
        "  if(emotion == \"disgust\" or emotion == \"anger\"\n",
        "                           or emotion==\"surprise\"):\n",
        "  \n",
        "        for i in a:\n",
        "  \n",
        "            # Splitting each line of the\n",
        "            # IMDb data to scrape movies\n",
        "            tmp = str(i).split('>;')\n",
        "  \n",
        "            if(len(tmp) == 3):\n",
        "                print(tmp[1][:-3])\n",
        "  \n",
        "            if(count > 13):\n",
        "                break\n",
        "            count += 1\n",
        "  else:\n",
        "        for i in a:\n",
        "            tmp = str(i).split('>')\n",
        "  \n",
        "            if(len(tmp) == 3):\n",
        "                print(tmp[1][:-3])\n",
        "  \n",
        "            if(count > 11):\n",
        "                break\n",
        "            count+=1"
      ],
      "metadata": {
        "colab": {
          "base_uri": "https://localhost:8080/"
        },
        "id": "1qdCnDAFqcpI",
        "outputId": "76f9708c-2414-4f4d-f94e-84b4eea3fdf4"
      },
      "execution_count": null,
      "outputs": [
        {
          "output_type": "stream",
          "name": "stdout",
          "text": [
            "Enter The Emotion::fear\n",
            "Air\n",
            "Gran Turismo\n",
            "Champions\n",
            "Creed III\n",
            "Next Goal Wins\n"
          ]
        }
      ]
    }
  ],
  "metadata": {
    "accelerator": "GPU",
    "colab": {
      "provenance": [],
      "name": "Movie recommendation based on emotion.ipynb",
      "include_colab_link": true
    },
    "gpuClass": "standard",
    "kernelspec": {
      "display_name": "Python 3",
      "name": "python3"
    },
    "language_info": {
      "name": "python"
    }
  },
  "nbformat": 4,
  "nbformat_minor": 0
}